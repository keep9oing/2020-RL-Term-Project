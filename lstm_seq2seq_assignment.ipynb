{
  "nbformat": 4,
  "nbformat_minor": 0,
  "metadata": {
    "colab": {
      "provenance": [],
      "collapsed_sections": [],
      "include_colab_link": true
    },
    "kernelspec": {
      "name": "python3",
      "display_name": "Python 3"
    },
    "language_info": {
      "name": "python"
    },
    "accelerator": "GPU",
    "gpuClass": "standard"
  },
  "cells": [
    {
      "cell_type": "markdown",
      "metadata": {
        "id": "view-in-github",
        "colab_type": "text"
      },
      "source": [
        "<a href=\"https://colab.research.google.com/github/keep9oing/2020-RL-Term-Project/blob/main/lstm_seq2seq_assignment.ipynb\" target=\"_parent\"><img src=\"https://colab.research.google.com/assets/colab-badge.svg\" alt=\"Open In Colab\"/></a>"
      ]
    },
    {
      "cell_type": "markdown",
      "source": [
        "# Building seq2seq rnn using LSTM\n",
        "The task objective is to code seq2seq model using LSTM.\n",
        "\n",
        "* An assignment part is denoted by (Assingment) \n",
        "\n",
        "* Grading criteria: Points are given if all your code in this notebook is runnable and the final ppl is lower than 200\n",
        "\n",
        "* Points are not given if the testing cell at the end of the notebook is modified or extra cells (including text) are added after the last cell. Do not change N_EPOCHS for testing efficiently.\n",
        "\n",
        "* Testing your model with the testing cell is recommended. \n",
        "\n",
        "* Please do not re-use the code from the example code. You have to write the code yourself."
      ],
      "metadata": {
        "id": "Vny1PKkek6-f"
      }
    },
    {
      "cell_type": "markdown",
      "source": [
        "## Assignment List\n",
        "\n",
        "\n",
        "(Assignment) 2.1 Make LSTM scratch \n",
        "\n",
        "(Assignment) 2.3 Make Encoder\n",
        "\n",
        "(Assignment) 2.4 Make Decoder \n",
        "\n",
        "(Assignment) 2.5 Make Seq2seq\n",
        "\n",
        "(Assignment) 3.1 Train your model "
      ],
      "metadata": {
        "id": "UVoNqEeJJdLQ"
      }
    },
    {
      "cell_type": "markdown",
      "source": [
        "#1. Preparing Data"
      ],
      "metadata": {
        "id": "wV6kpDHatJfu"
      }
    },
    {
      "cell_type": "markdown",
      "source": [
        "##1.1. Upload dataset"
      ],
      "metadata": {
        "id": "JFLIcg_hwsQX"
      }
    },
    {
      "cell_type": "code",
      "source": [
        "pip install torchtext==0.10.0\n"
      ],
      "metadata": {
        "colab": {
          "base_uri": "https://localhost:8080/"
        },
        "id": "shuEMr65t-qg",
        "outputId": "44b1cad4-bfb9-4c82-c9c3-f56a972060c2"
      },
      "execution_count": 1,
      "outputs": [
        {
          "output_type": "stream",
          "name": "stdout",
          "text": [
            "Looking in indexes: https://pypi.org/simple, https://us-python.pkg.dev/colab-wheels/public/simple/\n",
            "Collecting torchtext==0.10.0\n",
            "  Downloading torchtext-0.10.0-cp37-cp37m-manylinux1_x86_64.whl (7.6 MB)\n",
            "\u001b[K     |████████████████████████████████| 7.6 MB 6.9 MB/s \n",
            "\u001b[?25hRequirement already satisfied: tqdm in /usr/local/lib/python3.7/dist-packages (from torchtext==0.10.0) (4.64.1)\n",
            "Requirement already satisfied: requests in /usr/local/lib/python3.7/dist-packages (from torchtext==0.10.0) (2.23.0)\n",
            "Requirement already satisfied: numpy in /usr/local/lib/python3.7/dist-packages (from torchtext==0.10.0) (1.21.6)\n",
            "Collecting torch==1.9.0\n",
            "  Downloading torch-1.9.0-cp37-cp37m-manylinux1_x86_64.whl (831.4 MB)\n",
            "\u001b[K     |████████████████████████████████| 831.4 MB 2.4 kB/s \n",
            "\u001b[?25hRequirement already satisfied: typing-extensions in /usr/local/lib/python3.7/dist-packages (from torch==1.9.0->torchtext==0.10.0) (4.1.1)\n",
            "Requirement already satisfied: idna<3,>=2.5 in /usr/local/lib/python3.7/dist-packages (from requests->torchtext==0.10.0) (2.10)\n",
            "Requirement already satisfied: chardet<4,>=3.0.2 in /usr/local/lib/python3.7/dist-packages (from requests->torchtext==0.10.0) (3.0.4)\n",
            "Requirement already satisfied: urllib3!=1.25.0,!=1.25.1,<1.26,>=1.21.1 in /usr/local/lib/python3.7/dist-packages (from requests->torchtext==0.10.0) (1.24.3)\n",
            "Requirement already satisfied: certifi>=2017.4.17 in /usr/local/lib/python3.7/dist-packages (from requests->torchtext==0.10.0) (2022.9.24)\n",
            "Installing collected packages: torch, torchtext\n",
            "  Attempting uninstall: torch\n",
            "    Found existing installation: torch 1.12.1+cu113\n",
            "    Uninstalling torch-1.12.1+cu113:\n",
            "      Successfully uninstalled torch-1.12.1+cu113\n",
            "  Attempting uninstall: torchtext\n",
            "    Found existing installation: torchtext 0.13.1\n",
            "    Uninstalling torchtext-0.13.1:\n",
            "      Successfully uninstalled torchtext-0.13.1\n",
            "\u001b[31mERROR: pip's dependency resolver does not currently take into account all the packages that are installed. This behaviour is the source of the following dependency conflicts.\n",
            "torchvision 0.13.1+cu113 requires torch==1.12.1, but you have torch 1.9.0 which is incompatible.\n",
            "torchaudio 0.12.1+cu113 requires torch==1.12.1, but you have torch 1.9.0 which is incompatible.\u001b[0m\n",
            "Successfully installed torch-1.9.0 torchtext-0.10.0\n"
          ]
        }
      ]
    },
    {
      "cell_type": "code",
      "source": [
        "import torch\n",
        "import torch.nn as nn\n",
        "import torch.optim as optim\n",
        "\n",
        "from torchtext.legacy.datasets import Multi30k\n",
        "from torchtext.legacy.data import Field, BucketIterator\n",
        "\n",
        "import spacy\n",
        "import numpy as np\n",
        "\n",
        "import random\n",
        "import math\n",
        "import time\n"
      ],
      "metadata": {
        "id": "iFe01FdCtIya"
      },
      "execution_count": 2,
      "outputs": []
    },
    {
      "cell_type": "markdown",
      "source": [
        "## 1.2 pre-processing "
      ],
      "metadata": {
        "id": "IrvJvZwLLhAe"
      }
    },
    {
      "cell_type": "code",
      "source": [
        "\n",
        "from spacy.lang.en import English\n",
        "from spacy.lang.de import German\n",
        "\n",
        "\n",
        "spacy_en=English()\n",
        "spacy_de=German()\n",
        "\n",
        "def tokenize_de(text):\n",
        "\n",
        "    return [tok.text for tok in spacy_de.tokenizer(text)][::-1]\n",
        "\n",
        "def tokenize_en(text):\n",
        "\n",
        "    return [tok.text for tok in spacy_en.tokenizer(text)]\n",
        "  \n",
        "\n",
        "SRC = Field(tokenize = tokenize_de, \n",
        "            init_token = '<sos>', \n",
        "            eos_token = '<eos>', \n",
        "            lower = True)\n",
        "\n",
        "TRG = Field(tokenize = tokenize_en, \n",
        "            init_token = '<sos>', \n",
        "            eos_token = '<eos>', \n",
        "            lower = True)\n",
        "\n",
        "train_data, valid_data, test_data = Multi30k.splits(exts = ('.de', '.en'), \n",
        "                                                    fields = (SRC, TRG))\n",
        "\n",
        "SRC.build_vocab(train_data, min_freq = 2)\n",
        "TRG.build_vocab(train_data, min_freq = 2)"
      ],
      "metadata": {
        "id": "6hUSdA-atNhk",
        "colab": {
          "base_uri": "https://localhost:8080/"
        },
        "outputId": "72a6350e-e6b4-4bb1-9743-ebdf89676ab3"
      },
      "execution_count": 3,
      "outputs": [
        {
          "output_type": "stream",
          "name": "stdout",
          "text": [
            "downloading training.tar.gz\n"
          ]
        },
        {
          "output_type": "stream",
          "name": "stderr",
          "text": [
            "training.tar.gz: 100%|██████████| 1.21M/1.21M [00:02<00:00, 482kB/s]\n"
          ]
        },
        {
          "output_type": "stream",
          "name": "stdout",
          "text": [
            "downloading validation.tar.gz\n"
          ]
        },
        {
          "output_type": "stream",
          "name": "stderr",
          "text": [
            "validation.tar.gz: 100%|██████████| 46.3k/46.3k [00:00<00:00, 172kB/s]\n"
          ]
        },
        {
          "output_type": "stream",
          "name": "stdout",
          "text": [
            "downloading mmt_task1_test2016.tar.gz\n"
          ]
        },
        {
          "output_type": "stream",
          "name": "stderr",
          "text": [
            "mmt_task1_test2016.tar.gz: 100%|██████████| 66.2k/66.2k [00:00<00:00, 167kB/s]\n"
          ]
        }
      ]
    },
    {
      "cell_type": "markdown",
      "source": [
        "\n",
        " \n",
        "* sos: start of sequence\n",
        "* eos: end of sequence \n",
        "* German: SRC(source)\n",
        "* English: TRG(target)\n",
        "* Multi30k datase is a dataset with ~30,000 parallel English, Genrman and French sentences, each with ~12 workds per sentence\n",
        "* exts specifies which languages to use as the source and target (source goes first) \n",
        "* fields specifies which field to use for the source and target.\n",
        "\n",
        "\n",
        "\n"
      ],
      "metadata": {
        "id": "gPXkpwEayn91"
      }
    },
    {
      "cell_type": "markdown",
      "source": [
        "##1.3 Check whether gpu is avaliable "
      ],
      "metadata": {
        "id": "oIEiDN5TFYZd"
      }
    },
    {
      "cell_type": "code",
      "source": [
        "device = torch.device('cuda' if torch.cuda.is_available() else 'cpu')"
      ],
      "metadata": {
        "id": "uJQXGHGKtdjC"
      },
      "execution_count": 4,
      "outputs": []
    },
    {
      "cell_type": "markdown",
      "source": [
        "## 1.4 Define train/ validation /test datset "
      ],
      "metadata": {
        "id": "i2SKhc6ZLlN8"
      }
    },
    {
      "cell_type": "code",
      "source": [
        "BATCH_SIZE = 128\n",
        "\n",
        "train_iterator, valid_iterator, test_iterator = BucketIterator.splits(\n",
        "    (train_data, valid_data, test_data), \n",
        "    batch_size = BATCH_SIZE, \n",
        "    device = device)"
      ],
      "metadata": {
        "id": "jqKRG5mltf2v"
      },
      "execution_count": 5,
      "outputs": []
    },
    {
      "cell_type": "markdown",
      "source": [
        "#2. Implement RNN Model\n"
      ],
      "metadata": {
        "id": "XJJo3e3f27-6"
      }
    },
    {
      "cell_type": "markdown",
      "source": [
        "#(Assignment) 2.1 Make LSTM scratch \n",
        "\n"
      ],
      "metadata": {
        "id": "vS49ZLUR3BAW"
      }
    },
    {
      "cell_type": "code",
      "source": [
        "import torch\n",
        "from torch import nn\n",
        "\n",
        "\n",
        "class LSTM(nn.Module):\n",
        "  def __init__(self, emb_dim, hid_dim, sigma=0.01):\n",
        "    super().__init__()\n",
        "    \n",
        "    init_weight= lambda *shape: nn.Parameter(torch.randn(*shape)*sigma)\n",
        "    \n",
        "    triple = lambda: (init_weight(emb_dim, hid_dim,),\n",
        "                      init_weight(hid_dim,hid_dim),\n",
        "                      nn.Parameter(torch.zeros(hid_dim)))\n",
        "    \n",
        "    self.W_xi, self.W_hi, self.b_i = triple() #input gate\n",
        "    self.W_xf, self.W_hf, self.b_f = triple() #forget gate\n",
        "    self.W_xo, self.W_ho, self.b_o = triple() #output gate \n",
        "    self.W_xc, self.W_hc, self.b_c = triple() #candidate memory cell\n",
        "\n",
        "    self.sig = nn.Sigmoid()\n",
        "    self.tanh = nn.Tanh()\n",
        "  \n",
        "  def forward(self, inputs, H_C=None):\n",
        "\n",
        "    # get sizes\n",
        "    seq_len, batch_size, input_size = inputs.shape\n",
        "\n",
        "    # initialial hidden states\n",
        "    H, C = H_C\n",
        "\n",
        "    output = []\n",
        "    # inference\n",
        "    for seq in range(seq_len):\n",
        "      x = inputs[seq]\n",
        "      I = self.sig(torch.matmul(x,self.W_xi)+torch.matmul(H,self.W_hi)+self.b_i) # input gate\n",
        "      F = self.sig(torch.matmul(x,self.W_xf)+torch.matmul(H,self.W_hf)+self.b_f) # forget gate\n",
        "      O = self.sig(torch.matmul(x,self.W_xo)+torch.matmul(H,self.W_ho)+self.b_o) # output gate\n",
        "      \n",
        "      C_tilde = self.tanh(torch.matmul(x,self.W_xc)+torch.matmul(H,self.W_hc)+self.b_c) # candidate memory\n",
        "      C = F*C + I*C_tilde # Memory Cell\n",
        "\n",
        "      H = O * self.tanh(C) # Hidden state\n",
        "\n",
        "      output.append(H)\n",
        "\n",
        "    output = torch.cat(output, dim=1)\n",
        "    output = output.view(seq_len,batch_size,-1)\n",
        "\n",
        "    return output, (H, C)"
      ],
      "metadata": {
        "id": "6mahWMiq3Par"
      },
      "execution_count": 6,
      "outputs": []
    },
    {
      "cell_type": "markdown",
      "source": [
        "## 2.2 Check your LSTM"
      ],
      "metadata": {
        "id": "AWBa7gvq_pIa"
      }
    },
    {
      "cell_type": "code",
      "source": [
        "# nn.LSTM \n",
        "rnn = LSTM(10,20) # input_size= 10, hidden_size = 20\n",
        "\n",
        "input = torch.randn(5,3,10) # sequence length=5, batch_size=3, input_size = 10 \n",
        "\n",
        "# Initial hidden state and memery cell \n",
        "h_0 = torch.randn(1,3,20)\n",
        "c_0 = torch.randn(1,3,20)\n",
        "\n",
        "output, (hn, cn) = rnn(input, (h_0, c_0))\n",
        "\n",
        "# tensor, tuple object\n",
        "\n",
        "print(output.shape, '\\n', hn.shape, '\\n', cn.shape)\n"
      ],
      "metadata": {
        "colab": {
          "base_uri": "https://localhost:8080/"
        },
        "id": "bHZbpPTk_WjD",
        "outputId": "2659c860-8bd6-4b56-ae84-edda89fc26ee"
      },
      "execution_count": 7,
      "outputs": [
        {
          "output_type": "stream",
          "name": "stdout",
          "text": [
            "torch.Size([5, 3, 20]) \n",
            " torch.Size([1, 3, 20]) \n",
            " torch.Size([1, 3, 20])\n"
          ]
        }
      ]
    },
    {
      "cell_type": "markdown",
      "source": [
        "## (Assignment) 2.3. Make Encoder\n",
        "\n",
        "\n",
        "* src = [src len, batch size]\n",
        "* embedded = [src len, batch size, emb dim]\n",
        "* outputs = [src len, batch size, hid dim ]\n",
        "* hidden = [1, batch size, hid dim]\n",
        "* cell = [1, batch size, hid dim]\n",
        "        "
      ],
      "metadata": {
        "id": "E_OT1dGx3oIR"
      }
    },
    {
      "cell_type": "code",
      "source": [
        "class Encoder(nn.Module):\n",
        "    def __init__(self, input_dim, emb_dim, hid_dim, dropout):\n",
        "        super().__init__()\n",
        "        \n",
        "        self.hid_dim = hid_dim\n",
        "        \n",
        "        self.embedding = nn.Embedding(input_dim, emb_dim)\n",
        "        \n",
        "        self.rnn = nn.LSTM(emb_dim, hid_dim, dropout = dropout)\n",
        "        \n",
        "        self.dropout = nn.Dropout(dropout)\n",
        "        \n",
        "    def forward(self, src):\n",
        "        \n",
        "        #src = [src len, batch size]\n",
        "        seq_len, batch_size = src.shape\n",
        "\n",
        "        #embedded = [src len, batch size, emb dim]\n",
        "        embedded = self.embedding(src)\n",
        "        \n",
        "        #outputs = [src len, batch size, hid dim * n directions]\n",
        "        h = torch.zeros(1,batch_size,self.hid_dim).to(device)\n",
        "        c = torch.zeros(1,batch_size,self.hid_dim).to(device)\n",
        "\n",
        "        outputs, (hidden, cell) = self.rnn(embedded,(h,c))\n",
        "        \n",
        "        return hidden, cell"
      ],
      "metadata": {
        "id": "sOo6BZ7rthtO"
      },
      "execution_count": 8,
      "outputs": []
    },
    {
      "cell_type": "markdown",
      "source": [
        "## (Assignment) 2.4. Make Decoder "
      ],
      "metadata": {
        "id": "w7VW95ZW3z09"
      }
    },
    {
      "cell_type": "code",
      "source": [
        "class Decoder(nn.Module):\n",
        "    def __init__(self, output_dim, emb_dim, hid_dim, dropout):\n",
        "        super().__init__()\n",
        "        \n",
        "        self.output_dim = output_dim\n",
        "        self.hid_dim = hid_dim\n",
        "  \n",
        "        self.embedding = nn.Embedding(output_dim, emb_dim)\n",
        "        \n",
        "        self.rnn = nn.LSTM(emb_dim, hid_dim)\n",
        "        \n",
        "        self.fc_out = nn.Linear(hid_dim, output_dim)\n",
        "        \n",
        "        self.dropout = nn.Dropout(dropout)\n",
        "        \n",
        "    def forward(self, input, hidden, cell):\n",
        "        #input = [batch size]\n",
        "        #hidden = [batch size, hid dim]\n",
        "        #cell = [batch size, hid dim]\n",
        "        batch_size = input.shape\n",
        "        \n",
        "        #n directions in the decoder will both always be 1, therefore:\n",
        "        #hidden = [batch size, hid dim]\n",
        "        #context = [n layers, batch size, hid dim]\n",
        "      \n",
        "        \n",
        "        #input = [1, batch size]\n",
        "        input = input.view(1,-1)\n",
        "        \n",
        "        \n",
        "        #embedded = [1, batch size, emb dim]\n",
        "        embedded = self.embedding(input)\n",
        "  \n",
        "        \n",
        "        #output = [seq len, batch size, hid dim * n directions]\n",
        "        #hidden = [1, batch size, hid dim]\n",
        "        #cell = [1, batch size, hid dim]\n",
        "        output, (hidden, cell) = self.rnn(embedded, (hidden, cell))\n",
        "        \n",
        "        #seq len and n directions will always be 1 in the decoder, therefore:\n",
        "        #output = [1, batch size, hid dim]\n",
        "        #hidden = [1, batch size, hid dim]\n",
        "        #cell = [1, batch size, hid dim]\n",
        "\n",
        "        output = output.contiguous().view(-1, self.hid_dim)\n",
        "        output = self.dropout(output)\n",
        "        prediction = self.fc_out(output)\n",
        "\n",
        "        return prediction, hidden, cell"
      ],
      "metadata": {
        "id": "heIidIxQtlcR"
      },
      "execution_count": 9,
      "outputs": []
    },
    {
      "cell_type": "markdown",
      "source": [
        "##(Assignment) 2.5 Make Seq2seq"
      ],
      "metadata": {
        "id": "xZFTFXE53_WG"
      }
    },
    {
      "cell_type": "code",
      "source": [
        "class Seq2Seq(nn.Module):\n",
        "    def __init__(self, encoder, decoder, device):\n",
        "        super().__init__()\n",
        "        \n",
        "        self.encoder = encoder.to(device)\n",
        "        self.decoder = decoder.to(device)\n",
        "        self.device = device\n",
        "        \n",
        "    def forward(self, src, trg, teacher_forcing_ratio = 0.5):\n",
        "        \n",
        "        #src = [src len, batch size]\n",
        "        src_len, batch_size = src.shape\n",
        "        #trg = [trg len, batch size]\n",
        "        trg_len, _ = trg.shape\n",
        "        #teacher_forcing_ratio is probability to use teacher forcing\n",
        "        #e.g. if teacher_forcing_ratio is 0.75 we use ground-truth inputs 75% of the time\n",
        "        \n",
        "        #tensor to store decoder outputs\n",
        "        trg_vocab_size = len(TRG.vocab)\n",
        "        outputs = torch.zeros(trg_len, batch_size, trg_vocab_size).to(device)\n",
        "        \n",
        "        #last hidden state of the encoder is used as the initial hidden state of the decoder\n",
        "        h,c = self.encoder(src)\n",
        "        #first input to the decoder is the <sos> tokens\n",
        "        x = trg[0,:].to(device)\n",
        "        \n",
        "        for t in range(1, trg_len):\n",
        "            \n",
        "            #insert input token embedding, previous hidden and previous cell states\n",
        "            #receive output tensor (predictions) and new hidden and cell states\n",
        "            x, h,c = self.decoder(x,h,c)\n",
        "            \n",
        "            #place predictions in a tensor holding predictions for each token\n",
        "            outputs[t] = x\n",
        "     \n",
        "            #decide if we are going to use teacher forcing or not\n",
        "            tf_prob = random.random() # 0~1\n",
        "            if tf_prob < teacher_forcing_ratio:\n",
        "              tf_flag = True\n",
        "            else:\n",
        "              tf_flag = False\n",
        "            \n",
        "            #get the highest predicted token from our predictions\n",
        "            pred = x.argmax(1)\n",
        "            \n",
        "            #if teacher forcing, use actual next token as next input\n",
        "            if tf_flag:\n",
        "              x = trg[t]\n",
        "            #if not, use predicted token\n",
        "            else:\n",
        "              x = pred\n",
        "        \n",
        "        return outputs"
      ],
      "metadata": {
        "id": "dbsPvGJ5tnmU"
      },
      "execution_count": 10,
      "outputs": []
    },
    {
      "cell_type": "markdown",
      "source": [
        "## 2.6 Define seq2seq Model"
      ],
      "metadata": {
        "id": "cLfcDqUEImNF"
      }
    },
    {
      "cell_type": "code",
      "source": [
        "INPUT_DIM = len(SRC.vocab)\n",
        "OUTPUT_DIM = len(TRG.vocab)\n",
        "ENC_EMB_DIM = 256\n",
        "DEC_EMB_DIM = 256\n",
        "HID_DIM = 256\n",
        "ENC_DROPOUT = 0.5\n",
        "DEC_DROPOUT = 0.5\n",
        "\n",
        "\n",
        "\n",
        "input = torch.randint(0,3,(5,3)).to(device) #sequence length=5, batch_size=3 \n",
        "enc = Encoder(INPUT_DIM, ENC_EMB_DIM, HID_DIM,  ENC_DROPOUT).to(device)\n",
        "hidden, cell = enc(input)\n",
        "print('hidden and cell shape:', hidden.shape, cell.shape)\n",
        "\n",
        "\n",
        "# Initial hidden state and memery cell \n",
        "h_0 = torch.randn(1,3,20)\n",
        "c_0 = torch.randn(1,3,20)\n",
        "input = torch.Tensor([0,1,2]).to(device)\n",
        "dec = Decoder(OUTPUT_DIM, DEC_EMB_DIM, HID_DIM,  DEC_DROPOUT).to(device)\n",
        "\n",
        "\n",
        "\n",
        "model = Seq2Seq(enc, dec, device).to(device)"
      ],
      "metadata": {
        "colab": {
          "base_uri": "https://localhost:8080/"
        },
        "id": "qTNkj-fStqet",
        "outputId": "32db10d4-28f6-46cf-d71d-ca15ddff1b10"
      },
      "execution_count": 11,
      "outputs": [
        {
          "output_type": "stream",
          "name": "stdout",
          "text": [
            "hidden and cell shape: torch.Size([1, 3, 256]) torch.Size([1, 3, 256])\n"
          ]
        },
        {
          "output_type": "stream",
          "name": "stderr",
          "text": [
            "/usr/local/lib/python3.7/dist-packages/torch/nn/modules/rnn.py:65: UserWarning: dropout option adds dropout after all but last recurrent layer, so non-zero dropout expects num_layers greater than 1, but got dropout=0.5 and num_layers=1\n",
            "  \"num_layers={}\".format(dropout, num_layers))\n"
          ]
        }
      ]
    },
    {
      "cell_type": "code",
      "source": [
        "def init_weights(m):\n",
        "    for name, param in m.named_parameters():\n",
        "        nn.init.uniform_(param.data, -0.08, 0.08)\n",
        "        \n",
        "model.apply(init_weights)"
      ],
      "metadata": {
        "colab": {
          "base_uri": "https://localhost:8080/"
        },
        "id": "Hrw7mdZptskz",
        "outputId": "046d09a8-95d9-4b42-fa8b-7c4d76a70d1e"
      },
      "execution_count": 12,
      "outputs": [
        {
          "output_type": "execute_result",
          "data": {
            "text/plain": [
              "Seq2Seq(\n",
              "  (encoder): Encoder(\n",
              "    (embedding): Embedding(7853, 256)\n",
              "    (rnn): LSTM(256, 256, dropout=0.5)\n",
              "    (dropout): Dropout(p=0.5, inplace=False)\n",
              "  )\n",
              "  (decoder): Decoder(\n",
              "    (embedding): Embedding(5893, 256)\n",
              "    (rnn): LSTM(256, 256)\n",
              "    (fc_out): Linear(in_features=256, out_features=5893, bias=True)\n",
              "    (dropout): Dropout(p=0.5, inplace=False)\n",
              "  )\n",
              ")"
            ]
          },
          "metadata": {},
          "execution_count": 12
        }
      ]
    },
    {
      "cell_type": "code",
      "source": [
        "def count_parameters(model):\n",
        "    return sum(p.numel() for p in model.parameters() if p.requires_grad)\n",
        "\n",
        "print(f'The model has {count_parameters(model):,} trainable parameters')"
      ],
      "metadata": {
        "colab": {
          "base_uri": "https://localhost:8080/"
        },
        "id": "Aogo7QgStuDH",
        "outputId": "f3f4bff8-161e-4f54-b846-ce7408014f0f"
      },
      "execution_count": 13,
      "outputs": [
        {
          "output_type": "stream",
          "name": "stdout",
          "text": [
            "The model has 6,086,149 trainable parameters\n"
          ]
        }
      ]
    },
    {
      "cell_type": "markdown",
      "source": [
        "# 3. Training step "
      ],
      "metadata": {
        "id": "rIYxVpDK1A7_"
      }
    },
    {
      "cell_type": "markdown",
      "source": [
        "##(Assignment) 3.1 Train your model \n",
        "* Use gradient clipping "
      ],
      "metadata": {
        "id": "g2B7r1iBItJj"
      }
    },
    {
      "cell_type": "code",
      "source": [
        "optimizer = optim.Adam(model.parameters())\n",
        "TRG_PAD_IDX = TRG.vocab.stoi[TRG.pad_token]\n",
        "\n",
        "criterion = nn.CrossEntropyLoss(ignore_index = TRG_PAD_IDX)"
      ],
      "metadata": {
        "id": "xhA_F99stvey"
      },
      "execution_count": 14,
      "outputs": []
    },
    {
      "cell_type": "code",
      "source": [
        "def train(model, iterator, optimizer, criterion, clip):\n",
        "    \n",
        "    model.train()\n",
        "    \n",
        "    epoch_loss = 0\n",
        "    \n",
        "    for i, batch in enumerate(iterator):\n",
        "        \n",
        "        src = batch.src\n",
        "        trg = batch.trg\n",
        "        \n",
        "        optimizer.zero_grad()\n",
        "        \n",
        "        output = model(src, trg)\n",
        "        \n",
        "        #trg = [trg len, batch size]\n",
        "        #output = [trg len, batch size, output dim]\n",
        "        \n",
        "        output_dim = output.shape[-1]\n",
        "        \n",
        "        output = output[1:].view(-1, output_dim)\n",
        "        trg = trg[1:].view(-1)\n",
        "        \n",
        "        #trg = [(trg len - 1) * batch size]\n",
        "        #output = [(trg len - 1) * batch size, output dim]\n",
        "        \n",
        "        loss = criterion(output.squeeze(), trg.to(device))\n",
        "        epoch_loss += loss.item()\n",
        "        loss.backward()\n",
        "        nn.utils.clip_grad_norm_(model.parameters(), clip)\n",
        "        optimizer.step()\n",
        "\n",
        "    return epoch_loss / len(iterator)"
      ],
      "metadata": {
        "id": "PI_Jq_PUtyEI"
      },
      "execution_count": 15,
      "outputs": []
    },
    {
      "cell_type": "code",
      "source": [
        "def evaluate(model, iterator, criterion):\n",
        "    \n",
        "    model.eval()\n",
        "    \n",
        "    epoch_loss = 0\n",
        "    \n",
        "    with torch.no_grad():\n",
        "    \n",
        "        for i, batch in enumerate(iterator):\n",
        "\n",
        "            src = batch.src\n",
        "            trg = batch.trg\n",
        "\n",
        "            output = model(src, trg, 0) #turn off teacher forcing\n",
        "\n",
        "            #trg = [trg len, batch size]\n",
        "            #output = [trg len, batch size, output dim]\n",
        "\n",
        "            output_dim = output.shape[-1]\n",
        "            \n",
        "            output = output[1:].view(-1, output_dim)\n",
        "            trg = trg[1:].view(-1)\n",
        "\n",
        "            #trg = [(trg len - 1) * batch size]\n",
        "            #output = [(trg len - 1) * batch size, output dim]\n",
        "\n",
        "            loss = criterion(output, trg)\n",
        "            \n",
        "            epoch_loss += loss.item()\n",
        "        \n",
        "    return epoch_loss / len(iterator)"
      ],
      "metadata": {
        "id": "b2UI-H9Htyvn"
      },
      "execution_count": 16,
      "outputs": []
    },
    {
      "cell_type": "code",
      "source": [
        "def epoch_time(start_time, end_time):\n",
        "    elapsed_time = end_time - start_time\n",
        "    elapsed_mins = int(elapsed_time / 60)\n",
        "    elapsed_secs = int(elapsed_time - (elapsed_mins * 60))\n",
        "    return elapsed_mins, elapsed_secs"
      ],
      "metadata": {
        "id": "rH-yg3YRt0v_"
      },
      "execution_count": 17,
      "outputs": []
    },
    {
      "cell_type": "code",
      "source": [
        "N_EPOCHS = 1\n",
        "CLIP = 1\n",
        "\n",
        "best_valid_loss = float('inf')\n",
        "\n",
        "for epoch in range(N_EPOCHS):\n",
        "    \n",
        "    start_time = time.time()\n",
        "    \n",
        "    train_loss = train(model, train_iterator, optimizer, criterion, CLIP)\n",
        "    valid_loss = evaluate(model, valid_iterator, criterion)\n",
        "    \n",
        "    end_time = time.time()\n",
        "    \n",
        "    epoch_mins, epoch_secs = epoch_time(start_time, end_time)\n",
        "    \n",
        "    if valid_loss < best_valid_loss:\n",
        "        best_valid_loss = valid_loss\n",
        "        torch.save(model.state_dict(), 'model.pt')\n",
        "    \n",
        "    print(f'Epoch: {epoch+1:02} | Time: {epoch_mins}m {epoch_secs}s')\n",
        "    print(f'\\tTrain Loss: {train_loss:.3f} | Train PPL: {math.exp(train_loss):7.3f}')\n",
        "    print(f'\\t Val. Loss: {valid_loss:.3f} |  Val. PPL: {math.exp(valid_loss):7.3f}')\n",
        "    print('')"
      ],
      "metadata": {
        "colab": {
          "base_uri": "https://localhost:8080/"
        },
        "id": "gEQdqdhFt2cX",
        "outputId": "dd6e4a28-9ed2-4d3b-829d-8dcf21d92294"
      },
      "execution_count": 18,
      "outputs": [
        {
          "output_type": "stream",
          "name": "stdout",
          "text": [
            "Epoch: 01 | Time: 10m 51s\n",
            "\tTrain Loss: 5.226 | Train PPL: 186.054\n",
            "\t Val. Loss: 4.933 |  Val. PPL: 138.859\n",
            "\n"
          ]
        }
      ]
    },
    {
      "cell_type": "markdown",
      "source": [
        "# 4. Test your model"
      ],
      "metadata": {
        "id": "ouBFW7cMJAdm"
      }
    },
    {
      "cell_type": "code",
      "source": [
        "model.load_state_dict(torch.load('model.pt'))\n",
        "\n",
        "test_loss = evaluate(model, test_iterator, criterion)\n",
        "\n",
        "print(f'| Test Loss: {test_loss:.3f}')"
      ],
      "metadata": {
        "colab": {
          "base_uri": "https://localhost:8080/"
        },
        "id": "jLjTOzYZt50Q",
        "outputId": "a8059159-7c9a-4136-b9ad-3813969cea36"
      },
      "execution_count": 19,
      "outputs": [
        {
          "output_type": "stream",
          "name": "stdout",
          "text": [
            "| Test Loss: 4.932\n"
          ]
        }
      ]
    },
    {
      "cell_type": "code",
      "source": [
        "ppl = math.exp(test_loss)\n",
        "print(ppl)"
      ],
      "metadata": {
        "colab": {
          "base_uri": "https://localhost:8080/"
        },
        "id": "FGhYVmO8GWGL",
        "outputId": "26fce8a6-4fd4-4c03-f7b3-9860cb7a97df"
      },
      "execution_count": 20,
      "outputs": [
        {
          "output_type": "stream",
          "name": "stdout",
          "text": [
            "138.67610109102577\n"
          ]
        }
      ]
    }
  ]
}